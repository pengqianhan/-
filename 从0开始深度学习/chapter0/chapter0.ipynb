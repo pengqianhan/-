{
 "cells": [
  {
   "cell_type": "markdown",
   "metadata": {},
   "source": [
    "第一章主要是软件安装和Pyhthon 入门介绍"
   ]
  },
  {
   "cell_type": "markdown",
   "metadata": {},
   "source": [
    "## 软件安装列表\n",
    "为了避免奇怪的问题，安装路径里不要有中文字符\n",
    "1. Miniconda 安装： [官网地址](https://docs.anaconda.com/miniconda/), [清华镜像](https://mirrors.tuna.tsinghua.edu.cn/anaconda/miniconda/?C=M&O=A) (如果官网打不开或者很慢可以点击)\n",
    "2. [vscode](https://code.visualstudio.com/download) 安装\n",
    "3. 在vscode 中安装相关Extentions (在左侧四个方块处点击然后搜索)\n",
    "   - Python\n",
    "   - Chinese (Simplified) (简体中文)\n",
    "   - Jupyter\n",
    "   - 编程助手 [github copilot](https://github.com/features/copilot)(学生认证之后免费)；[通义灵码](https://tongyi.aliyun.com/lingma)(阿里的编程助手)；[文心快码](https://comate.baidu.com/zh?inviteCode=i1573l5q)(百度的编程助手)\n",
    "4. conda 管理虚拟环境 (打开miniconda prompt)\n",
    "     - 创建虚拟环境: conda create -n [name]\n",
    "     - 查看虚拟环境：conda info -e\n",
    "     - 激活相应的虚拟环境：conda activate [name]\n",
    "     - 退出虚拟环境：conda deactivate\n",
    "     - 删除虚拟环境: conda remove -n [name] --all "
   ]
  },
  {
   "cell_type": "markdown",
   "metadata": {},
   "source": [
    "## python 入门\n",
    "1. .py 文件和 .ipynb 文件的介绍，.py 是python文件，里面只有代码；ipynb是一个python笔记本，可以写文档和代码\n",
    "2. 建立.py 和.ipynb 文件来运行第一行python代码\n",
    "\n"
   ]
  },
  {
   "cell_type": "markdown",
   "metadata": {},
   "source": [
    "## pyhton 数据类型"
   ]
  },
  {
   "cell_type": "code",
   "execution_count": 6,
   "metadata": {},
   "outputs": [
    {
     "name": "stdout",
     "output_type": "stream",
     "text": [
      "hello' world\n"
     ]
    }
   ],
   "source": [
    "print(\"hello' world\")# 这是一个打印函数\n",
    "# print('ni hao')"
   ]
  },
  {
   "cell_type": "code",
   "execution_count": null,
   "metadata": {},
   "outputs": [],
   "source": [
    "# a=1\n",
    "# b=1\n",
    "# if a==b:\n",
    "#     print (\"True\")\n",
    "# else:\n",
    "#     print (\"False\")\n",
    "a = range(10)\n",
    "print('a:',a)\n",
    "for i in range(10):\n",
    "    print (i)\n"
   ]
  },
  {
   "cell_type": "code",
   "execution_count": 40,
   "metadata": {},
   "outputs": [
    {
     "name": "stdout",
     "output_type": "stream",
     "text": [
      "[1, 2, 3, 4, 5, 6]\n",
      "1\n",
      "[2, 4]\n"
     ]
    }
   ],
   "source": [
    "#!/usr/bin/python3\n",
    "\n",
    "str= [1,2,3,4,5,6]\n",
    "# 打印出str\n",
    "print(str)\n",
    "# 打印出str的第一个值\n",
    "print(str[0])  \n",
    "# 打印str,从第二个开始每个2个取一个值\n",
    "print(str[1:5:2])     "
   ]
  },
  {
   "cell_type": "code",
   "execution_count": 129,
   "metadata": {},
   "outputs": [
    {
     "name": "stdout",
     "output_type": "stream",
     "text": [
      "7\n"
     ]
    }
   ],
   "source": [
    "print(int('7'))"
   ]
  },
  {
   "cell_type": "code",
   "execution_count": 130,
   "metadata": {},
   "outputs": [
    {
     "name": "stdout",
     "output_type": "stream",
     "text": [
      "你输入的数字可以整除 3，但不能整除 2\n"
     ]
    }
   ],
   "source": [
    "# !/usr/bin/python3\n",
    " \n",
    "num=int(input(\"输入一个数字：\"))\n",
    "if num%2==0:\n",
    "    if num%3==0:\n",
    "        print (\"你输入的数字可以整除 2 和 3\")\n",
    "    else:\n",
    "        print (\"你输入的数字可以整除 2，但不能整除 3\")\n",
    "else:\n",
    "    if num%3==0:\n",
    "        print (\"你输入的数字可以整除 3，但不能整除 2\")\n",
    "    else:\n",
    "        print  (\"你输入的数字不能整除 2 和 3\")"
   ]
  },
  {
   "cell_type": "code",
   "execution_count": 135,
   "metadata": {},
   "outputs": [
    {
     "name": "stdout",
     "output_type": "stream",
     "text": [
      "1\n",
      "2\n",
      "3\n",
      "4\n",
      "5\n",
      "6\n"
     ]
    }
   ],
   "source": [
    "a = [1,2,3,4,5,6]\n",
    "for i in a:\n",
    "    print(i)"
   ]
  },
  {
   "cell_type": "code",
   "execution_count": 138,
   "metadata": {},
   "outputs": [],
   "source": [
    "import torch\n",
    "import torch.nn as nn\n",
    "rnn = nn.LSTM(10, 20, 2)##\n",
    "input = torch.randn(5, 3, 10)\n",
    "h0 = torch.randn(2, 3, 20)\n",
    "c0 = torch.randn(2, 3, 20)\n",
    "output, (hn, cn) = rnn(input, (h0, c0))"
   ]
  },
  {
   "cell_type": "markdown",
   "metadata": {},
   "source": [
    "## Python 函数 function"
   ]
  },
  {
   "cell_type": "code",
   "execution_count": 16,
   "metadata": {},
   "outputs": [
    {
     "name": "stdout",
     "output_type": "stream",
     "text": [
      "Hello World!\n"
     ]
    }
   ],
   "source": [
    "#!/usr/bin/python3\n",
    "\n",
    "def hello() :\n",
    "    print(\"Hello World!\")\n",
    "\n",
    "hello()"
   ]
  },
  {
   "cell_type": "code",
   "execution_count": 17,
   "metadata": {},
   "outputs": [
    {
     "name": "stdout",
     "output_type": "stream",
     "text": [
      "5\n"
     ]
    }
   ],
   "source": [
    "#!/usr/bin/python3\n",
    " \n",
    "def max(a, b):\n",
    "    if a > b:\n",
    "        return a\n",
    "    else:\n",
    "        return b\n",
    " \n",
    "a = 4\n",
    "b = 5\n",
    "print(max(a, b))"
   ]
  },
  {
   "cell_type": "code",
   "execution_count": 18,
   "metadata": {},
   "outputs": [
    {
     "name": "stdout",
     "output_type": "stream",
     "text": [
      "名字:  daqiwuli\n",
      "年龄:  50\n",
      "------------------------\n",
      "名字:  daqiwuli\n",
      "年龄:  50\n",
      "------------------------\n",
      "名字:  daqiwuli\n",
      "年龄:  35\n"
     ]
    }
   ],
   "source": [
    "#!/usr/bin/python3\n",
    " \n",
    "#可写函数说明\n",
    "def printinfo( name='liming', age = 35  ):\n",
    "   \"打印任何传入的字符串\"\n",
    "   print (\"名字: \", name)\n",
    "   print (\"年龄: \", age)\n",
    "   return\n",
    " \n",
    "#调用printinfo函数\n",
    "printinfo( age=50, name=\"daqiwuli\" )\n",
    "print (\"------------------------\")\n",
    "printinfo( name=\"daqiwuli\" ,age=50 )\n",
    "print (\"------------------------\")\n",
    "printinfo(name=\"daqiwuli\")"
   ]
  },
  {
   "cell_type": "code",
   "execution_count": 22,
   "metadata": {},
   "outputs": [
    {
     "name": "stdout",
     "output_type": "stream",
     "text": [
      "名字:  daqiwuli\n",
      "年龄:  50\n",
      "------------------------\n",
      "名字:  daqiwuli\n",
      "年龄:  50\n",
      "------------------------\n",
      "名字:  daqiwuli\n",
      "年龄:  35\n"
     ]
    }
   ],
   "source": [
    "#!/usr/bin/python3\n",
    " \n",
    "#可写函数说明\n",
    "def printinfo( name, age=35  ):## 后面的参数有默认值\n",
    "   \"打印任何传入的字符串\"\n",
    "   print (\"名字: \", name)\n",
    "   print (\"年龄: \", age)\n",
    "   return\n",
    " \n",
    "#调用printinfo函数\n",
    "printinfo( age=50, name=\"daqiwuli\" )\n",
    "print (\"------------------------\")\n",
    "printinfo( name=\"daqiwuli\" ,age=50 )\n",
    "print (\"------------------------\")\n",
    "printinfo(name=\"daqiwuli\")"
   ]
  },
  {
   "cell_type": "code",
   "execution_count": 25,
   "metadata": {},
   "outputs": [
    {
     "name": "stdout",
     "output_type": "stream",
     "text": [
      "输出: \n",
      "arg1 70\n",
      "vartuple: (60, 50)\n"
     ]
    }
   ],
   "source": [
    "#!/usr/bin/python3\n",
    "  \n",
    "# 可写函数说明\n",
    "def printinfo( arg1, *vartuple ):\n",
    "   \"打印任何传入的参数\"\n",
    "   print (\"输出: \")\n",
    "   print ('arg1',arg1)\n",
    "   print ('vartuple:',vartuple)\n",
    "\n",
    "# 调用printinfo 函数\n",
    "printinfo( 70, 60, 50 )"
   ]
  },
  {
   "cell_type": "code",
   "execution_count": 26,
   "metadata": {},
   "outputs": [
    {
     "name": "stdout",
     "output_type": "stream",
     "text": [
      "输出: \n",
      "arg1: 1\n",
      "vardict: {'a': 2, 'b': 3}\n"
     ]
    }
   ],
   "source": [
    "#!/usr/bin/python3\n",
    "  \n",
    "# 可写函数说明\n",
    "def printinfo( arg1, **vardict ):\n",
    "   \"打印任何传入的参数\"\n",
    "   print (\"输出: \")\n",
    "   print ('arg1:',arg1)\n",
    "   print ('vardict:',vardict)\n",
    "\n",
    "# 调用printinfo 函数\n",
    "printinfo(1, a=2,b=3)"
   ]
  },
  {
   "cell_type": "markdown",
   "metadata": {},
   "source": [
    "## Python Class 类"
   ]
  },
  {
   "cell_type": "code",
   "execution_count": 31,
   "metadata": {},
   "outputs": [
    {
     "name": "stdout",
     "output_type": "stream",
     "text": [
      "MyClass 类的属性 i 为： 12345\n",
      "MyClass 类的方法 f 输出为： hello world3\n"
     ]
    }
   ],
   "source": [
    "\n",
    "#!/usr/bin/python3\n",
    " \n",
    "class MyClass():\n",
    "    \"\"\"一个简单的类实例\"\"\"\n",
    "    i = 12345\n",
    "    def f(self,a,b):\n",
    "        c = a+b\n",
    "        return 'hello world'+str(c)\n",
    " \n",
    "# 实例化类\n",
    "x = MyClass()\n",
    "\n",
    "# 访问类的属性和方法\n",
    "print(\"MyClass 类的属性 i 为：\", x.i)\n",
    "print(\"MyClass 类的方法 f 输出为：\", x.f(a=1,b=2))"
   ]
  },
  {
   "cell_type": "code",
   "execution_count": 37,
   "metadata": {},
   "outputs": [
    {
     "name": "stdout",
     "output_type": "stream",
     "text": [
      "3.0 -4.5\n",
      "output_c: 3\n",
      "output_e: 1.5\n"
     ]
    }
   ],
   "source": [
    "#!/usr/bin/python3\n",
    " \n",
    "class Complex:\n",
    "    def __init__(self, realpart, imagpart):\n",
    "        self.r = realpart\n",
    "        self.i = imagpart\n",
    "    def compute(self,a,b):\n",
    "        c = a+b\n",
    "        # d = self.r + self.i\n",
    "        e = c + self.r + self.i\n",
    "        return c,e\n",
    "x = Complex(3.0, -4.5)\n",
    "print(x.r, x.i)   # 输出结果：3.0 -4.5\n",
    "output_c, output_e = x.compute(1,2)\n",
    "print('output_c:',output_c)\n",
    "print('output_e:',output_e)"
   ]
  },
  {
   "cell_type": "code",
   "execution_count": 39,
   "metadata": {},
   "outputs": [
    {
     "name": "stdout",
     "output_type": "stream",
     "text": [
      "15\n"
     ]
    }
   ],
   "source": [
    "x = lambda a : a + 10\n",
    "print(x(5))"
   ]
  },
  {
   "cell_type": "code",
   "execution_count": 41,
   "metadata": {},
   "outputs": [
    {
     "name": "stdout",
     "output_type": "stream",
     "text": [
      "1\n",
      "2\n"
     ]
    }
   ],
   "source": [
    "list=[1,2,3,4]\n",
    "it = iter(list)    # 创建迭代器对象\n",
    "print (next(it))   # 输出迭代器的下一个元素\n",
    "print (next(it))"
   ]
  },
  {
   "cell_type": "code",
   "execution_count": null,
   "metadata": {},
   "outputs": [],
   "source": [
    "aaa=[2,3,4,5,6,7,8,9]\n",
    "# for i in aaa:\n",
    "#     print(i)\n",
    "for i,j in enumerate(aaa):\n",
    "    # print('i=',i)\n",
    "    print('j=',j)\n",
    "    "
   ]
  },
  {
   "cell_type": "code",
   "execution_count": null,
   "metadata": {},
   "outputs": [],
   "source": []
  }
 ],
 "metadata": {
  "kernelspec": {
   "display_name": "Python 3",
   "language": "python",
   "name": "python3"
  },
  "language_info": {
   "codemirror_mode": {
    "name": "ipython",
    "version": 3
   },
   "file_extension": ".py",
   "mimetype": "text/x-python",
   "name": "python",
   "nbconvert_exporter": "python",
   "pygments_lexer": "ipython3",
   "version": "3.8.12"
  }
 },
 "nbformat": 4,
 "nbformat_minor": 2
}
