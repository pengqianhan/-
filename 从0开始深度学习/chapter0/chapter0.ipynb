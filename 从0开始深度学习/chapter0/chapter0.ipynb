{
 "cells": [
  {
   "cell_type": "markdown",
   "metadata": {},
   "source": [
    "第一章主要是软件安装和Pyhthon 入门介绍"
   ]
  },
  {
   "cell_type": "markdown",
   "metadata": {},
   "source": [
    "## 软件安装列表\n",
    "为了避免奇怪的问题，安装路径里不要有中文字符\n",
    "1. Miniconda 安装： [官网地址](https://docs.anaconda.com/miniconda/), [清华镜像](https://mirrors.tuna.tsinghua.edu.cn/anaconda/miniconda/?C=M&O=A) (如果官网打不开或者很慢可以点击)\n",
    "2. [vscode](https://code.visualstudio.com/download) 安装\n",
    "3. 在vscode 中安装相关Extentions (在左侧四个方块处点击然后搜索)\n",
    "   - Python\n",
    "   - Chinese (Simplified) (简体中文)\n",
    "   - Jupyter\n",
    "   - 编程助手 [github copilot](https://github.com/features/copilot)(学生认证之后免费)；[通义灵码](https://tongyi.aliyun.com/lingma)(阿里的编程助手)；\n",
    "4. conda 管理虚拟环境 (打开miniconda prompt)\n",
    "     - 创建虚拟环境: conda create -n [name]\n",
    "     - 查看虚拟环境：conda info -e\n",
    "     - 激活相应的虚拟环境：conda activate [name]\n",
    "     - 退出虚拟环境：conda deactivate\n",
    "     - 删除虚拟环境: conda remove -n [name] --all "
   ]
  },
  {
   "cell_type": "markdown",
   "metadata": {},
   "source": [
    "## python 入门\n",
    "1. .py 文件和 .ipynb 文件的介绍，.py 是python文件，里面只有代码；ipynb是一个python笔记本，可以写文档和代码\n",
    "2. 建立.py 和.ipynb 文件来运行第一行python代码\n",
    "\n"
   ]
  },
  {
   "cell_type": "code",
   "execution_count": 6,
   "metadata": {},
   "outputs": [
    {
     "name": "stdout",
     "output_type": "stream",
     "text": [
      "hello' world\n"
     ]
    }
   ],
   "source": [
    "print(\"hello' world\")# 这是一个打印函数\n",
    "# print('ni hao')"
   ]
  },
  {
   "cell_type": "code",
   "execution_count": null,
   "metadata": {},
   "outputs": [],
   "source": [
    "# a=1\n",
    "# b=1\n",
    "# if a==b:\n",
    "#     print (\"True\")\n",
    "# else:\n",
    "#     print (\"False\")\n",
    "a = range(10)\n",
    "print('a:',a)\n",
    "for i in range(10):\n",
    "    print (i)\n"
   ]
  },
  {
   "cell_type": "code",
   "execution_count": 40,
   "metadata": {},
   "outputs": [
    {
     "name": "stdout",
     "output_type": "stream",
     "text": [
      "[1, 2, 3, 4, 5, 6]\n",
      "1\n",
      "[2, 4]\n"
     ]
    }
   ],
   "source": [
    "#!/usr/bin/python3\n",
    "\n",
    "str= [1,2,3,4,5,6]\n",
    "# 打印出str\n",
    "print(str)\n",
    "# 打印出str的第一个值\n",
    "print(str[0])  \n",
    "# 打印str,从第二个开始每个2个取一个值\n",
    "print(str[1:5:2])     "
   ]
  },
  {
   "cell_type": "code",
   "execution_count": 129,
   "metadata": {},
   "outputs": [
    {
     "name": "stdout",
     "output_type": "stream",
     "text": [
      "7\n"
     ]
    }
   ],
   "source": [
    "print(int('7'))"
   ]
  },
  {
   "cell_type": "code",
   "execution_count": 130,
   "metadata": {},
   "outputs": [
    {
     "name": "stdout",
     "output_type": "stream",
     "text": [
      "你输入的数字可以整除 3，但不能整除 2\n"
     ]
    }
   ],
   "source": [
    "# !/usr/bin/python3\n",
    " \n",
    "num=int(input(\"输入一个数字：\"))\n",
    "if num%2==0:\n",
    "    if num%3==0:\n",
    "        print (\"你输入的数字可以整除 2 和 3\")\n",
    "    else:\n",
    "        print (\"你输入的数字可以整除 2，但不能整除 3\")\n",
    "else:\n",
    "    if num%3==0:\n",
    "        print (\"你输入的数字可以整除 3，但不能整除 2\")\n",
    "    else:\n",
    "        print  (\"你输入的数字不能整除 2 和 3\")"
   ]
  },
  {
   "cell_type": "code",
   "execution_count": 135,
   "metadata": {},
   "outputs": [
    {
     "name": "stdout",
     "output_type": "stream",
     "text": [
      "1\n",
      "2\n",
      "3\n",
      "4\n",
      "5\n",
      "6\n"
     ]
    }
   ],
   "source": [
    "a = [1,2,3,4,5,6]\n",
    "for i in a:\n",
    "    print(i)"
   ]
  },
  {
   "cell_type": "code",
   "execution_count": 138,
   "metadata": {},
   "outputs": [],
   "source": [
    "import torch\n",
    "import torch.nn as nn\n",
    "rnn = nn.LSTM(10, 20, 2)##\n",
    "input = torch.randn(5, 3, 10)\n",
    "h0 = torch.randn(2, 3, 20)\n",
    "c0 = torch.randn(2, 3, 20)\n",
    "output, (hn, cn) = rnn(input, (h0, c0))"
   ]
  },
  {
   "cell_type": "code",
   "execution_count": null,
   "metadata": {},
   "outputs": [],
   "source": []
  }
 ],
 "metadata": {
  "kernelspec": {
   "display_name": "Python 3",
   "language": "python",
   "name": "python3"
  },
  "language_info": {
   "codemirror_mode": {
    "name": "ipython",
    "version": 3
   },
   "file_extension": ".py",
   "mimetype": "text/x-python",
   "name": "python",
   "nbconvert_exporter": "python",
   "pygments_lexer": "ipython3",
   "version": "3.8.12"
  }
 },
 "nbformat": 4,
 "nbformat_minor": 2
}
