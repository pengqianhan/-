{
 "cells": [
  {
   "cell_type": "markdown",
   "metadata": {},
   "source": [
    "第一章主要是软件安装和Pyhthon 入门介绍"
   ]
  },
  {
   "cell_type": "markdown",
   "metadata": {},
   "source": [
    "## 软件安装列表\n",
    "1. Miniconda 安装, [官网地址](https://docs.anaconda.com/miniconda/), [清华镜像](https://mirrors.tuna.tsinghua.edu.cn/anaconda/miniconda/?C=M&O=A)\n",
    "2. [vscode](https://code.visualstudio.com/download) 安装\n",
    "3. 在vscode 中安装相关Extentions\n",
    "3.1  编程助手 github copilot(学生认证之后免费)；"
   ]
  },
  {
   "cell_type": "markdown",
   "metadata": {},
   "source": [
    "## python 入门\n",
    "1. .py 文件和 .ipynb 文件的介绍，.py 是python文件，里面只有代码；ipynb是一个python笔记本，可以写文档和代码\n",
    "2. 建立.py 和.ipynb 文件来运行第一行python代码 \n"
   ]
  },
  {
   "cell_type": "code",
   "execution_count": null,
   "metadata": {},
   "outputs": [],
   "source": []
  }
 ],
 "metadata": {
  "language_info": {
   "name": "python"
  }
 },
 "nbformat": 4,
 "nbformat_minor": 2
}
